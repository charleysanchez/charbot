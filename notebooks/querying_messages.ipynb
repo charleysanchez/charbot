{
 "cells": [
  {
   "cell_type": "code",
   "execution_count": 24,
   "metadata": {},
   "outputs": [],
   "source": [
    "import pandas as pd\n",
    "import sqlite3\n"
   ]
  },
  {
   "cell_type": "code",
   "execution_count": 42,
   "metadata": {},
   "outputs": [],
   "source": [
    "def preprocess_data(df):\n",
    "    # Remove duplicate messages\n",
    "    df = df.drop_duplicates()\n",
    "\n",
    "    # Normalize text: lowercase\n",
    "    df[\"text\"] = df[\"text\"].str.lower()\n",
    "\n",
    "    # Remove special characters (optional)\n",
    "    df[\"text\"] = df[\"text\"].str.replace(r\"[^\\w\\s]\", \"\", regex=True)\n",
    "\n",
    "    df\n",
    "\n",
    "    # Structure data for chatbot (input-response pairs)\n",
    "    conversations = []\n",
    "    for i in range(len(df) - 1):\n",
    "        if df.iloc[i][\"sender\"] == \"You\" and df.iloc[i + 1][\"sender\"] == \"Me\":\n",
    "            conversations.append({\"input\": df.iloc[i][\"text\"], \"response\": df.iloc[i + 1][\"text\"]})\n",
    "\n",
    "    # Convert to DataFrame\n",
    "    chatbot_data = pd.DataFrame(conversations)\n",
    "\n",
    "    # Save processed data for chatbot training\n",
    "    chatbot_data.to_csv(\"../data/chatbot_data.csv\", index=False)\n",
    "\n",
    "    print(\"Preprocessing complete! Saved as chatbot_data.csv\")"
   ]
  },
  {
   "cell_type": "code",
   "execution_count": 44,
   "metadata": {},
   "outputs": [
    {
     "name": "stderr",
     "output_type": "stream",
     "text": [
      "/var/folders/gg/7n0jp1r94z564swcxk0rk4w40000gn/T/ipykernel_4198/3597340635.py:6: SettingWithCopyWarning: \n",
      "A value is trying to be set on a copy of a slice from a DataFrame.\n",
      "Try using .loc[row_indexer,col_indexer] = value instead\n",
      "\n",
      "See the caveats in the documentation: https://pandas.pydata.org/pandas-docs/stable/user_guide/indexing.html#returning-a-view-versus-a-copy\n",
      "  df[\"text\"] = df[\"text\"].str.lower()\n",
      "/var/folders/gg/7n0jp1r94z564swcxk0rk4w40000gn/T/ipykernel_4198/3597340635.py:9: SettingWithCopyWarning: \n",
      "A value is trying to be set on a copy of a slice from a DataFrame.\n",
      "Try using .loc[row_indexer,col_indexer] = value instead\n",
      "\n",
      "See the caveats in the documentation: https://pandas.pydata.org/pandas-docs/stable/user_guide/indexing.html#returning-a-view-versus-a-copy\n",
      "  df[\"text\"] = df[\"text\"].str.replace(r\"[^\\w\\s]\", \"\", regex=True)\n"
     ]
    },
    {
     "name": "stdout",
     "output_type": "stream",
     "text": [
      "Preprocessing complete! Saved as chatbot_data.csv\n"
     ]
    }
   ],
   "source": [
    "with sqlite3.connect(\"../data/texts.db\") as conn:\n",
    "    query = '''\n",
    "    SELECT m.text, m.date, h.id as sender\n",
    "    FROM message m\n",
    "    JOIN handle h ON m.handle_id = h.ROWID\n",
    "    '''\n",
    "    # df_texts = pd.read_sql_query(query, conn)\n",
    "    # df_texts.to_csv('texts.csv')  # Export to CSV\n",
    "\n",
    "    query_myself = '''\n",
    "    SELECT \n",
    "    CASE \n",
    "        WHEN \"is_from_me\" = 0 THEN 'You'\n",
    "        WHEN \"is_from_me\" = 1 THEN 'Me'\n",
    "    END as sender,\n",
    "    \"text\"\n",
    "    FROM \"main\".\"message\"\n",
    "    WHERE length(text) > 1\n",
    "    AND ROWID > 100000\n",
    "    AND handle_id IS NOT 0\n",
    "    AND handle_id IN (\n",
    "        SELECT handle_id\n",
    "        FROM \"main\".\"message\"\n",
    "        GROUP BY handle_id\n",
    "        HAVING COUNT(*) >= 100\n",
    "    )\n",
    "    ORDER BY \"handle_id\", \"ROWID\" ASC\n",
    "    LIMIT 0, 499999;\n",
    "    '''\n",
    "\n",
    "    df_my_texts = pd.read_sql_query(query_myself, conn)\n",
    "    df_my_texts\n",
    "    preprocess_data(df_my_texts)"
   ]
  },
  {
   "cell_type": "code",
   "execution_count": 55,
   "metadata": {},
   "outputs": [],
   "source": [
    "import torch\n",
    "from transformers import AutoModelForCausalLM, AutoTokenizer, Trainer, TrainingArguments\n",
    "from datasets import Dataset\n",
    "\n",
    "df = pd.read_csv(\"../data/chatbot_data.csv\")\n",
    "\n",
    "def format_dialog(df):\n",
    "    conversations = []\n",
    "    for _, row in df.iterrows():\n",
    "        conversations.append(f\"User: {row['input']}\\nBot: {row['response']}\")\n",
    "    return conversations\n",
    "\n",
    "formatted_texts = format_dialog(df)"
   ]
  },
  {
   "cell_type": "code",
   "execution_count": null,
   "metadata": {},
   "outputs": [
    {
     "ename": "NameError",
     "evalue": "name 'training_args' is not defined",
     "output_type": "error",
     "traceback": [
      "\u001b[0;31m---------------------------------------------------------------------------\u001b[0m",
      "\u001b[0;31mNameError\u001b[0m                                 Traceback (most recent call last)",
      "Cell \u001b[0;32mIn[58], line 21\u001b[0m\n\u001b[1;32m     15\u001b[0m         \u001b[38;5;28;01mreturn\u001b[39;00m {key: val[idx] \u001b[38;5;28;01mfor\u001b[39;00m key, val \u001b[38;5;129;01min\u001b[39;00m \u001b[38;5;28mself\u001b[39m\u001b[38;5;241m.\u001b[39mencodings\u001b[38;5;241m.\u001b[39mitems()}\n\u001b[1;32m     17\u001b[0m train_dataset \u001b[38;5;241m=\u001b[39m ChatDataset(inputs)\n\u001b[1;32m     19\u001b[0m trainer \u001b[38;5;241m=\u001b[39m Trainer(\n\u001b[1;32m     20\u001b[0m     model\u001b[38;5;241m=\u001b[39mmodel,\n\u001b[0;32m---> 21\u001b[0m     args\u001b[38;5;241m=\u001b[39m\u001b[43mtraining_args\u001b[49m,\n\u001b[1;32m     22\u001b[0m     train_dataset\u001b[38;5;241m=\u001b[39mtrain_dataset\n\u001b[1;32m     23\u001b[0m )\n\u001b[1;32m     25\u001b[0m trainer\u001b[38;5;241m.\u001b[39mtrain()\n\u001b[1;32m     26\u001b[0m model\u001b[38;5;241m.\u001b[39msave_pretrained(\u001b[38;5;124m\"\u001b[39m\u001b[38;5;124mmodels/charbot_model_small\u001b[39m\u001b[38;5;124m\"\u001b[39m)\n",
      "\u001b[0;31mNameError\u001b[0m: name 'training_args' is not defined"
     ]
    }
   ],
   "source": [
    "model_name = \"microsoft/DialoGPT-small\"\n",
    "tokenizer = AutoTokenizer.from_pretrained(model_name)\n",
    "model = AutoModelForCausalLM.from_pretrained(model_name)\n",
    "\n",
    "tokenizer.pad_token = tokenizer.eos_token  # Set padding token\n",
    "\n",
    "inputs = tokenizer(formatted_texts, truncation=True, padding=True, max_length=512, return_tensors=\"pt\")\n",
    "\n",
    "class ChatDataset(Dataset):\n",
    "    def __init__(self, encodings):\n",
    "        self.encodings = encodings\n",
    "    def __len__(self):\n",
    "        return len(self.encodings.input_ids)\n",
    "    def __getitem__(self, idx):\n",
    "        return {key: val[idx] for key, val in self.encodings.items()}\n",
    "\n",
    "train_dataset = ChatDataset(inputs)\n",
    "\n",
    "training_args = TrainingArguments(\n",
    "    output_dir=\"./models/charbot_model\",\n",
    "    per_device_train_batch_size=2,\n",
    "    num_train_epochs=3,\n",
    "    logging_dir=\"./logs\"\n",
    ")\n"
   ]
  },
  {
   "cell_type": "code",
   "execution_count": null,
   "metadata": {},
   "outputs": [
    {
     "ename": "NameError",
     "evalue": "name 'training_args' is not defined",
     "output_type": "error",
     "traceback": [
      "\u001b[0;31m---------------------------------------------------------------------------\u001b[0m",
      "\u001b[0;31mNameError\u001b[0m                                 Traceback (most recent call last)",
      "Cell \u001b[0;32mIn[57], line 3\u001b[0m\n\u001b[1;32m      1\u001b[0m trainer \u001b[38;5;241m=\u001b[39m Trainer(\n\u001b[1;32m      2\u001b[0m     model\u001b[38;5;241m=\u001b[39mmodel,\n\u001b[0;32m----> 3\u001b[0m     args\u001b[38;5;241m=\u001b[39m\u001b[43mtraining_args\u001b[49m,\n\u001b[1;32m      4\u001b[0m     train_dataset\u001b[38;5;241m=\u001b[39mtrain_dataset\n\u001b[1;32m      5\u001b[0m )\n\u001b[1;32m      7\u001b[0m trainer\u001b[38;5;241m.\u001b[39mtrain()\n\u001b[1;32m      8\u001b[0m model\u001b[38;5;241m.\u001b[39msave_pretrained(\u001b[38;5;124m\"\u001b[39m\u001b[38;5;124mmodels/charbot_model_small\u001b[39m\u001b[38;5;124m\"\u001b[39m)\n",
      "\u001b[0;31mNameError\u001b[0m: name 'training_args' is not defined"
     ]
    }
   ],
   "source": [
    "trainer = Trainer(\n",
    "    model=model,\n",
    "    args=training_args,\n",
    "    train_dataset=train_dataset\n",
    ")\n",
    "\n",
    "trainer.train()\n",
    "model.save_pretrained(\"models/charbot_model_small\")\n",
    "tokenizer.save_pretrained(\"models/charbot_model_small\")"
   ]
  },
  {
   "cell_type": "code",
   "execution_count": null,
   "metadata": {},
   "outputs": [],
   "source": []
  }
 ],
 "metadata": {
  "kernelspec": {
   "display_name": "venv_charbot",
   "language": "python",
   "name": "python3"
  },
  "language_info": {
   "codemirror_mode": {
    "name": "ipython",
    "version": 3
   },
   "file_extension": ".py",
   "mimetype": "text/x-python",
   "name": "python",
   "nbconvert_exporter": "python",
   "pygments_lexer": "ipython3",
   "version": "3.12.2"
  }
 },
 "nbformat": 4,
 "nbformat_minor": 2
}
