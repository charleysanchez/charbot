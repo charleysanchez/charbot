{
 "cells": [
  {
   "cell_type": "code",
   "execution_count": 1,
   "metadata": {},
   "outputs": [],
   "source": [
    "import pandas as pd\n",
    "import sqlite3\n"
   ]
  },
  {
   "cell_type": "code",
   "execution_count": 2,
   "metadata": {},
   "outputs": [],
   "source": [
    "def preprocess_data(df):\n",
    "    # Remove duplicate messages\n",
    "    df = df.drop_duplicates()\n",
    "\n",
    "    # Normalize text: lowercase\n",
    "    df[\"text\"] = df[\"text\"].str.lower()\n",
    "\n",
    "    # Remove special characters (optional)\n",
    "    df[\"text\"] = df[\"text\"].str.replace(r\"[^\\w\\s]\", \"\", regex=True)\n",
    "\n",
    "    df\n",
    "\n",
    "    # Structure data for chatbot (input-response pairs)\n",
    "    conversations = []\n",
    "    for i in range(len(df) - 1):\n",
    "        if df.iloc[i][\"sender\"] == \"You\" and df.iloc[i + 1][\"sender\"] == \"Me\":\n",
    "            conversations.append({\"input\": df.iloc[i][\"text\"], \"response\": df.iloc[i + 1][\"text\"]})\n",
    "\n",
    "    # Convert to DataFrame\n",
    "    chatbot_data = pd.DataFrame(conversations)\n",
    "\n",
    "    # Save processed data for chatbot training\n",
    "    chatbot_data.to_csv(\"../data/chatbot_data.csv\", index=False)\n",
    "\n",
    "    print(\"Preprocessing complete! Saved as chatbot_data.csv\")"
   ]
  },
  {
   "cell_type": "code",
   "execution_count": 3,
   "metadata": {},
   "outputs": [
    {
     "name": "stderr",
     "output_type": "stream",
     "text": [
      "/var/folders/gg/7n0jp1r94z564swcxk0rk4w40000gn/T/ipykernel_18158/3597340635.py:6: SettingWithCopyWarning: \n",
      "A value is trying to be set on a copy of a slice from a DataFrame.\n",
      "Try using .loc[row_indexer,col_indexer] = value instead\n",
      "\n",
      "See the caveats in the documentation: https://pandas.pydata.org/pandas-docs/stable/user_guide/indexing.html#returning-a-view-versus-a-copy\n",
      "  df[\"text\"] = df[\"text\"].str.lower()\n",
      "/var/folders/gg/7n0jp1r94z564swcxk0rk4w40000gn/T/ipykernel_18158/3597340635.py:9: SettingWithCopyWarning: \n",
      "A value is trying to be set on a copy of a slice from a DataFrame.\n",
      "Try using .loc[row_indexer,col_indexer] = value instead\n",
      "\n",
      "See the caveats in the documentation: https://pandas.pydata.org/pandas-docs/stable/user_guide/indexing.html#returning-a-view-versus-a-copy\n",
      "  df[\"text\"] = df[\"text\"].str.replace(r\"[^\\w\\s]\", \"\", regex=True)\n"
     ]
    },
    {
     "name": "stdout",
     "output_type": "stream",
     "text": [
      "Preprocessing complete! Saved as chatbot_data.csv\n"
     ]
    }
   ],
   "source": [
    "with sqlite3.connect(\"../data/texts.db\") as conn:\n",
    "    query = '''\n",
    "    SELECT m.text, m.date, h.id as sender\n",
    "    FROM message m\n",
    "    JOIN handle h ON m.handle_id = h.ROWID\n",
    "    '''\n",
    "    # df_texts = pd.read_sql_query(query, conn)\n",
    "    # df_texts.to_csv('texts.csv')  # Export to CSV\n",
    "\n",
    "    query_myself = '''\n",
    "    SELECT \n",
    "    CASE \n",
    "        WHEN \"is_from_me\" = 0 THEN 'You'\n",
    "        WHEN \"is_from_me\" = 1 THEN 'Me'\n",
    "    END as sender,\n",
    "    \"text\"\n",
    "    FROM \"main\".\"message\"\n",
    "    WHERE length(text) > 1\n",
    "    AND ROWID > 100000\n",
    "    AND handle_id IS NOT 0\n",
    "    AND handle_id IN (\n",
    "        SELECT handle_id\n",
    "        FROM \"main\".\"message\"\n",
    "        GROUP BY handle_id\n",
    "        HAVING COUNT(*) >= 100\n",
    "    )\n",
    "    ORDER BY \"handle_id\", \"ROWID\" ASC\n",
    "    LIMIT 0, 499999;\n",
    "    '''\n",
    "\n",
    "    df_my_texts = pd.read_sql_query(query_myself, conn)\n",
    "    df_my_texts\n",
    "    preprocess_data(df_my_texts)"
   ]
  },
  {
   "cell_type": "code",
   "execution_count": 4,
   "metadata": {},
   "outputs": [
    {
     "name": "stderr",
     "output_type": "stream",
     "text": [
      "/Users/charley/Programming/personal/charbot/venv_charbot/lib/python3.12/site-packages/tqdm/auto.py:21: TqdmWarning: IProgress not found. Please update jupyter and ipywidgets. See https://ipywidgets.readthedocs.io/en/stable/user_install.html\n",
      "  from .autonotebook import tqdm as notebook_tqdm\n"
     ]
    }
   ],
   "source": [
    "import torch\n",
    "from transformers import AutoModelForCausalLM, AutoTokenizer, Trainer, TrainingArguments\n",
    "from datasets import Dataset\n",
    "\n",
    "df = pd.read_csv(\"../data/chatbot_data.csv\")\n",
    "\n",
    "def format_dialog(df):\n",
    "    conversations = []\n",
    "    for _, row in df.iterrows():\n",
    "        conversations.append(f\"User: {row['input']}\\nBot: {row['response']}\")\n",
    "    return conversations\n",
    "\n",
    "formatted_texts = format_dialog(df)"
   ]
  },
  {
   "cell_type": "code",
   "execution_count": 5,
   "metadata": {},
   "outputs": [],
   "source": [
    "from sklearn.model_selection import train_test_split\n",
    "\n",
    "# Split into train and eval datasets\n",
    "train_texts, eval_texts = train_test_split(formatted_texts, test_size=0.1)  # 10% for evaluation"
   ]
  },
  {
   "cell_type": "code",
   "execution_count": null,
   "metadata": {},
   "outputs": [],
   "source": [
    "model_name = \"microsoft/DialoGPT-small\"\n",
    "tokenizer = AutoTokenizer.from_pretrained(model_name)\n",
    "model = AutoModelForCausalLM.from_pretrained(model_name)\n",
    "\n",
    "tokenizer.pad_token = tokenizer.eos_token  # Set padding token\n",
    "\n",
    "# Tokenize with padding and truncation\n",
    "train_encodings = tokenizer(train_texts, truncation=True, padding=True, max_length=512, return_tensors=\"pt\")\n",
    "eval_encodings = tokenizer(eval_texts, truncation=True, padding=True, max_length=512, return_tensors=\"pt\")\n",
    "\n",
    "# Shift the input_ids to create labels for the model\n",
    "train_labels = train_encodings[\"input_ids\"].clone()  # Clone input_ids for labels\n",
    "eval_labels = eval_encodings[\"input_ids\"].clone()\n",
    "\n",
    "# Shift the labels to the right (for causal language modeling)\n",
    "train_labels[:, :-1] = train_encodings[\"input_ids\"][:, 1:].clone()\n",
    "eval_labels[:, :-1] = eval_encodings[\"input_ids\"][:, 1:].clone()\n",
    "\n",
    "# Replace the last token in labels with -100 to ignore padding tokens\n",
    "train_labels[train_labels == tokenizer.pad_token_id] = -100\n",
    "eval_labels[eval_labels == tokenizer.pad_token_id] = -100\n",
    "\n",
    "# Add the labels to the encodings\n",
    "train_encodings[\"labels\"] = train_labels\n",
    "eval_encodings[\"labels\"] = eval_labels\n",
    "# Convert into Dataset objects\n",
    "train_dataset = Dataset.from_dict({key: val.tolist() for key, val in train_encodings.items()})\n",
    "eval_dataset = Dataset.from_dict({key: val.tolist() for key, val in eval_encodings.items()})\n",
    "\n",
    "class ChatDataset(Dataset):\n",
    "    def __init__(self, encodings):\n",
    "        self.encodings = encodings\n",
    "    def __len__(self):\n",
    "        return len(self.encodings.input_ids)\n",
    "    def __getitem__(self, idx):\n",
    "        return {key: val[idx] for key, val in self.encodings.items()}\n",
    "\n",
    "# train_dataset = ChatDataset(train_dataset)\n",
    "\n",
    "training_args = TrainingArguments(\n",
    "    output_dir=\"./models/charbot_model\",\n",
    "    per_device_train_batch_size=2,\n",
    "    num_train_epochs=3,\n",
    "    logging_dir=\"./logs\",\n",
    "    save_strategy=\"epoch\",\n",
    "    evaluation_strategy=\"epoch\"\n",
    ")\n"
   ]
  },
  {
   "cell_type": "code",
   "execution_count": 6,
   "metadata": {},
   "outputs": [
    {
     "name": "stderr",
     "output_type": "stream",
     "text": [
      "Downloading shards: 100%|██████████| 2/2 [02:13<00:00, 66.65s/it]\n",
      "Loading checkpoint shards: 100%|██████████| 2/2 [00:17<00:00,  8.64s/it]\n",
      "/Users/charley/Programming/personal/charbot/venv_charbot/lib/python3.12/site-packages/transformers/training_args.py:1575: FutureWarning: `evaluation_strategy` is deprecated and will be removed in version 4.46 of 🤗 Transformers. Use `eval_strategy` instead\n",
      "  warnings.warn(\n"
     ]
    }
   ],
   "source": [
    "model_name = \"microsoft/Phi-3-mini-4k-instruct\"\n",
    "tokenizer = AutoTokenizer.from_pretrained(model_name)\n",
    "model = AutoModelForCausalLM.from_pretrained(model_name)\n",
    "\n",
    "tokenizer.pad_token = tokenizer.eos_token  # Set padding token\n",
    "\n",
    "# Tokenize with padding and truncation\n",
    "train_encodings = tokenizer(train_texts, truncation=True, padding=True, max_length=512, return_tensors=\"pt\")\n",
    "eval_encodings = tokenizer(eval_texts, truncation=True, padding=True, max_length=512, return_tensors=\"pt\")\n",
    "\n",
    "# Shift the input_ids to create labels for the model\n",
    "train_labels = train_encodings[\"input_ids\"].clone()  # Clone input_ids for labels\n",
    "eval_labels = eval_encodings[\"input_ids\"].clone()\n",
    "\n",
    "# Shift the labels to the right (for causal language modeling)\n",
    "train_labels[:, :-1] = train_encodings[\"input_ids\"][:, 1:].clone()\n",
    "eval_labels[:, :-1] = eval_encodings[\"input_ids\"][:, 1:].clone()\n",
    "\n",
    "# Replace the last token in labels with -100 to ignore padding tokens\n",
    "train_labels[train_labels == tokenizer.pad_token_id] = -100\n",
    "eval_labels[eval_labels == tokenizer.pad_token_id] = -100\n",
    "\n",
    "# Add the labels to the encodings\n",
    "train_encodings[\"labels\"] = train_labels\n",
    "eval_encodings[\"labels\"] = eval_labels\n",
    "# Convert into Dataset objects\n",
    "train_dataset = Dataset.from_dict({key: val.tolist() for key, val in train_encodings.items()})\n",
    "eval_dataset = Dataset.from_dict({key: val.tolist() for key, val in eval_encodings.items()})\n",
    "\n",
    "class ChatDataset(Dataset):\n",
    "    def __init__(self, encodings):\n",
    "        self.encodings = encodings\n",
    "    def __len__(self):\n",
    "        return len(self.encodings.input_ids)\n",
    "    def __getitem__(self, idx):\n",
    "        return {key: val[idx] for key, val in self.encodings.items()}\n",
    "\n",
    "# train_dataset = ChatDataset(train_dataset)\n",
    "\n",
    "training_args = TrainingArguments(\n",
    "    output_dir=\"charbot_model\",\n",
    "    per_device_train_batch_size=2,\n",
    "    num_train_epochs=3,\n",
    "    logging_dir=\"./logs\",\n",
    "    save_strategy=\"epoch\",\n",
    "    evaluation_strategy=\"epoch\"\n",
    ")\n"
   ]
  },
  {
   "cell_type": "code",
   "execution_count": null,
   "metadata": {},
   "outputs": [],
   "source": [
    "trainer = Trainer(\n",
    "    model=model,\n",
    "    args=training_args,\n",
    "    train_dataset=train_dataset,\n",
    "    eval_dataset=eval_dataset\n",
    ")\n",
    "\n",
    "trainer.train()\n",
    "model.save_pretrained(\"models/charbot_model_medium\")\n",
    "tokenizer.save_pretrained(\"models/charbot_model_medium\")"
   ]
  },
  {
   "cell_type": "code",
   "execution_count": null,
   "metadata": {},
   "outputs": [
    {
     "name": "stderr",
     "output_type": "stream",
     "text": [
      "`loss_type=None` was set in the config but it is unrecognised.Using the default loss: `ForCausalLMLoss`.\n"
     ]
    },
    {
     "data": {
      "text/html": [
       "\n",
       "    <div>\n",
       "      \n",
       "      <progress value='14370' max='14370' style='width:300px; height:20px; vertical-align: middle;'></progress>\n",
       "      [14370/14370 54:29, Epoch 3/3]\n",
       "    </div>\n",
       "    <table border=\"1\" class=\"dataframe\">\n",
       "  <thead>\n",
       " <tr style=\"text-align: left;\">\n",
       "      <th>Epoch</th>\n",
       "      <th>Training Loss</th>\n",
       "      <th>Validation Loss</th>\n",
       "    </tr>\n",
       "  </thead>\n",
       "  <tbody>\n",
       "    <tr>\n",
       "      <td>1</td>\n",
       "      <td>4.925000</td>\n",
       "      <td>5.146930</td>\n",
       "    </tr>\n",
       "    <tr>\n",
       "      <td>2</td>\n",
       "      <td>4.526400</td>\n",
       "      <td>5.109916</td>\n",
       "    </tr>\n",
       "    <tr>\n",
       "      <td>3</td>\n",
       "      <td>4.337700</td>\n",
       "      <td>5.146240</td>\n",
       "    </tr>\n",
       "  </tbody>\n",
       "</table><p>"
      ],
      "text/plain": [
       "<IPython.core.display.HTML object>"
      ]
     },
     "metadata": {},
     "output_type": "display_data"
    },
    {
     "data": {
      "text/plain": [
       "('models/charbot_model_small/tokenizer_config.json',\n",
       " 'models/charbot_model_small/special_tokens_map.json',\n",
       " 'models/charbot_model_small/vocab.json',\n",
       " 'models/charbot_model_small/merges.txt',\n",
       " 'models/charbot_model_small/added_tokens.json',\n",
       " 'models/charbot_model_small/tokenizer.json')"
      ]
     },
     "execution_count": 20,
     "metadata": {},
     "output_type": "execute_result"
    }
   ],
   "source": [
    "# trainer = Trainer(\n",
    "#     model=model,\n",
    "#     args=training_args,\n",
    "#     train_dataset=train_dataset,\n",
    "#     eval_dataset=eval_dataset\n",
    "# )\n",
    "\n",
    "# trainer.train()\n",
    "# model.save_pretrained(\"models/charbot_model_small\")\n",
    "# tokenizer.save_pretrained(\"models/charbot_model_small\")"
   ]
  },
  {
   "cell_type": "code",
   "execution_count": 24,
   "metadata": {},
   "outputs": [
    {
     "name": "stdout",
     "output_type": "stream",
     "text": [
      "Charbot is ready! Type 'exit' to stop.\n",
      "Bot:  you so at r r r r r goodmg so to  you so  you so at r r goodmgmg so to you so  you so at r r goodmgmg so to you so Bot i you so at r r goodmgmg so to you so  you so at r r goodmgmgmg so to you so Bot i you so at r r\n",
      "Bot:  loveuuuuuuuuuuuuuuuuuuuuuuuuuuuuuuuuuuuuuuuuuuuuuuuuuuuuuuuuuuuuuuuuuuuuuuuuuuuuuuuuuuuuuuuuuuuuuuuuu\n",
      "Bot:  you so at r r r r r goodmgmgmgmgmgmgmgmgmgmgmgmgmgmgmgmgmgmgmgmgmgmgmgmgmgmgmgmgmgmgmgmgmgmgmgmgmgmgmgmgmgmgmgmgmgmgmgmgmgmgmgmgmgmgmgmgmgmgmgmgmgmgmgmgmgmgmgmgmgmgmgmgmgmgmgmgmgmg\n",
      "Bot: hiiiiiiiiiiiiiiiiiiiiiiiiiiiiiiiiiiiiiiiiiiiiiiiiiiiiiiiiiiiiiiiiiiiiiiiiiiiiiiiiiiiiiiiiiiiiiiiiiiiiiiiiiiiiiiiiiiiiiiiiiiiiiiiiiiiiiiiiiiiiiiiiiiiiiiiiiiiiiiiiiiiiiiiiiiiiiiiiiiiiiiii\n"
     ]
    }
   ],
   "source": [
    "# Load trained chatbot\n",
    "model = AutoModelForCausalLM.from_pretrained(\"models/charbot_model_small\")\n",
    "tokenizer = AutoTokenizer.from_pretrained(\"models/charbot_model_small\")\n",
    "\n",
    "# Function to chat with your model\n",
    "def chat_with_bot():\n",
    "    print(\"Charbot is ready! Type 'exit' to stop.\")\n",
    "    while True:\n",
    "        user_input = input(\"You: \")\n",
    "        if user_input.lower() == \"exit\":\n",
    "            break\n",
    "        input_text = f\"User: {user_input}\\nBot:\"\n",
    "        input_ids = tokenizer.encode(input_text, return_tensors=\"pt\")\n",
    "        response_ids = model.generate(input_ids, max_length=100, pad_token_id=tokenizer.eos_token_id)\n",
    "        response = tokenizer.decode(response_ids[:, input_ids.shape[-1]:][0], skip_special_tokens=True)\n",
    "        print(f\"Bot: {response}\")\n",
    "\n",
    "chat_with_bot()"
   ]
  },
  {
   "cell_type": "code",
   "execution_count": null,
   "metadata": {},
   "outputs": [],
   "source": []
  }
 ],
 "metadata": {
  "kernelspec": {
   "display_name": "venv_charbot",
   "language": "python",
   "name": "python3"
  },
  "language_info": {
   "codemirror_mode": {
    "name": "ipython",
    "version": 3
   },
   "file_extension": ".py",
   "mimetype": "text/x-python",
   "name": "python",
   "nbconvert_exporter": "python",
   "pygments_lexer": "ipython3",
   "version": "3.12.2"
  }
 },
 "nbformat": 4,
 "nbformat_minor": 2
}
