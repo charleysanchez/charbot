{
 "cells": [
  {
   "cell_type": "code",
   "execution_count": 7,
   "metadata": {},
   "outputs": [],
   "source": [
    "import pandas as pd\n",
    "import sqlite3\n"
   ]
  },
  {
   "cell_type": "code",
   "execution_count": 18,
   "metadata": {},
   "outputs": [],
   "source": [
    "with sqlite3.connect(\"../data/texts.db\") as conn:\n",
    "    query = '''\n",
    "    SELECT m.text, m.date, h.id as sender\n",
    "    FROM message m\n",
    "    JOIN handle h ON m.handle_id = h.ROWID\n",
    "    '''\n",
    "    # df_texts = pd.read_sql_query(query, conn)\n",
    "    # df_texts.to_csv('texts.csv')  # Export to CSV\n",
    "\n",
    "    query_myself = '''\n",
    "    SELECT \n",
    "    CASE \n",
    "        WHEN \"is_from_me\" = 0 THEN 'You'\n",
    "        WHEN \"is_from_me\" = 1 THEN 'Me'\n",
    "    END as sender,\n",
    "    \"text\"\n",
    "    FROM \"main\".\"message\"\n",
    "    WHERE length(text) > 1\n",
    "    AND ROWID > 100000\n",
    "    AND handle_id IS NOT 0\n",
    "    AND handle_id IN (\n",
    "        SELECT handle_id\n",
    "        FROM \"main\".\"message\"\n",
    "        GROUP BY handle_id\n",
    "        HAVING COUNT(*) >= 100\n",
    "    )\n",
    "    ORDER BY \"handle_id\", \"ROWID\" ASC\n",
    "    LIMIT 0, 499999;\n",
    "    '''\n",
    "\n",
    "    df_my_texts = pd.read_sql_query(query_myself, conn)\n",
    "    df_my_texts"
   ]
  },
  {
   "cell_type": "code",
   "execution_count": 19,
   "metadata": {},
   "outputs": [],
   "source": [
    "df_my_texts.to_csv('texts.csv')"
   ]
  },
  {
   "cell_type": "code",
   "execution_count": null,
   "metadata": {},
   "outputs": [],
   "source": []
  }
 ],
 "metadata": {
  "kernelspec": {
   "display_name": "venv_charbot",
   "language": "python",
   "name": "python3"
  },
  "language_info": {
   "codemirror_mode": {
    "name": "ipython",
    "version": 3
   },
   "file_extension": ".py",
   "mimetype": "text/x-python",
   "name": "python",
   "nbconvert_exporter": "python",
   "pygments_lexer": "ipython3",
   "version": "3.12.2"
  }
 },
 "nbformat": 4,
 "nbformat_minor": 2
}
